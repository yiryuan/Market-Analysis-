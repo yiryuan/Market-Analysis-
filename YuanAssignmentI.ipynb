{
  "nbformat": 4,
  "nbformat_minor": 0,
  "metadata": {
    "colab": {
      "provenance": [],
      "toc_visible": true,
      "authorship_tag": "ABX9TyOCP3ggJH+TBrpkAFAyeOLH",
      "include_colab_link": true
    },
    "kernelspec": {
      "name": "python3",
      "display_name": "Python 3"
    },
    "language_info": {
      "name": "python"
    }
  },
  "cells": [
    {
      "cell_type": "markdown",
      "metadata": {
        "id": "view-in-github",
        "colab_type": "text"
      },
      "source": [
        "<a href=\"https://colab.research.google.com/github/yiryuan/Market-Analysis-/blob/main/YuanAssignmentI.ipynb\" target=\"_parent\"><img src=\"https://colab.research.google.com/assets/colab-badge.svg\" alt=\"Open In Colab\"/></a>"
      ]
    },
    {
      "cell_type": "markdown",
      "source": [
        "# Exploratory Data Analysis"
      ],
      "metadata": {
        "id": "-SdZ4EZBJOVw"
      }
    },
    {
      "cell_type": "code",
      "execution_count": null,
      "metadata": {
        "id": "7vAvie6e8Vrp"
      },
      "outputs": [],
      "source": [
        "import pandas as pd\n",
        "import seaborn as sns\n",
        "import missingno as msno\n",
        "july4 = pd.read_csv(\"july4_snapshot.csv\")"
      ]
    },
    {
      "cell_type": "markdown",
      "source": [
        "A. Call the head() function on this dataframe and look at your results."
      ],
      "metadata": {
        "id": "a2tRMoJpCMQZ"
      }
    },
    {
      "cell_type": "code",
      "source": [
        "july4.head()"
      ],
      "metadata": {
        "colab": {
          "base_uri": "https://localhost:8080/",
          "height": 268
        },
        "id": "BvEYZavh926h",
        "outputId": "1739e2f0-5437-4e9c-c64c-da93e5f7c13c"
      },
      "execution_count": null,
      "outputs": [
        {
          "output_type": "execute_result",
          "data": {
            "text/plain": [
              "   visitor  day_pass season_ticket  domestic  state country  gender  age  \\\n",
              "0        1         1            No         1     NY     USA       0   32   \n",
              "1        2         0           Yes         1  Other     USA       1   43   \n",
              "2        3         1            No         1     ME     USA       1   28   \n",
              "3        4         0           Yes         1     NH     USA       1   35   \n",
              "4        5         1            No         0    NaN     MEX       1   44   \n",
              "\n",
              "  maine_res  stay_four  payment_method  ice_cream_purch ice_cream_flavor  \\\n",
              "0        No          1               0                1          Vanilla   \n",
              "1        No          1               0                1        Chocolate   \n",
              "2       Yes          1               0                0             None   \n",
              "3        No          0               0                0             None   \n",
              "4        No          1               0                1          Vanilla   \n",
              "\n",
              "   sky_chair  ferris_wheel  lobster_claw  lobster_junior  merch_spend  \\\n",
              "0          1             0             0               1    34.529611   \n",
              "1          0             0             1               0    23.811135   \n",
              "2          1             1             0               1    49.231936   \n",
              "3          0             1             1               0    55.508722   \n",
              "4          0             1             0               0    61.019885   \n",
              "\n",
              "   lobsterama_spend  \n",
              "0             24.95  \n",
              "1             16.58  \n",
              "2             29.94  \n",
              "3             49.95  \n",
              "4             36.62  "
            ],
            "text/html": [
              "\n",
              "  <div id=\"df-593b316b-2495-41d6-b3a2-6f03fa7166eb\">\n",
              "    <div class=\"colab-df-container\">\n",
              "      <div>\n",
              "<style scoped>\n",
              "    .dataframe tbody tr th:only-of-type {\n",
              "        vertical-align: middle;\n",
              "    }\n",
              "\n",
              "    .dataframe tbody tr th {\n",
              "        vertical-align: top;\n",
              "    }\n",
              "\n",
              "    .dataframe thead th {\n",
              "        text-align: right;\n",
              "    }\n",
              "</style>\n",
              "<table border=\"1\" class=\"dataframe\">\n",
              "  <thead>\n",
              "    <tr style=\"text-align: right;\">\n",
              "      <th></th>\n",
              "      <th>visitor</th>\n",
              "      <th>day_pass</th>\n",
              "      <th>season_ticket</th>\n",
              "      <th>domestic</th>\n",
              "      <th>state</th>\n",
              "      <th>country</th>\n",
              "      <th>gender</th>\n",
              "      <th>age</th>\n",
              "      <th>maine_res</th>\n",
              "      <th>stay_four</th>\n",
              "      <th>payment_method</th>\n",
              "      <th>ice_cream_purch</th>\n",
              "      <th>ice_cream_flavor</th>\n",
              "      <th>sky_chair</th>\n",
              "      <th>ferris_wheel</th>\n",
              "      <th>lobster_claw</th>\n",
              "      <th>lobster_junior</th>\n",
              "      <th>merch_spend</th>\n",
              "      <th>lobsterama_spend</th>\n",
              "    </tr>\n",
              "  </thead>\n",
              "  <tbody>\n",
              "    <tr>\n",
              "      <th>0</th>\n",
              "      <td>1</td>\n",
              "      <td>1</td>\n",
              "      <td>No</td>\n",
              "      <td>1</td>\n",
              "      <td>NY</td>\n",
              "      <td>USA</td>\n",
              "      <td>0</td>\n",
              "      <td>32</td>\n",
              "      <td>No</td>\n",
              "      <td>1</td>\n",
              "      <td>0</td>\n",
              "      <td>1</td>\n",
              "      <td>Vanilla</td>\n",
              "      <td>1</td>\n",
              "      <td>0</td>\n",
              "      <td>0</td>\n",
              "      <td>1</td>\n",
              "      <td>34.529611</td>\n",
              "      <td>24.95</td>\n",
              "    </tr>\n",
              "    <tr>\n",
              "      <th>1</th>\n",
              "      <td>2</td>\n",
              "      <td>0</td>\n",
              "      <td>Yes</td>\n",
              "      <td>1</td>\n",
              "      <td>Other</td>\n",
              "      <td>USA</td>\n",
              "      <td>1</td>\n",
              "      <td>43</td>\n",
              "      <td>No</td>\n",
              "      <td>1</td>\n",
              "      <td>0</td>\n",
              "      <td>1</td>\n",
              "      <td>Chocolate</td>\n",
              "      <td>0</td>\n",
              "      <td>0</td>\n",
              "      <td>1</td>\n",
              "      <td>0</td>\n",
              "      <td>23.811135</td>\n",
              "      <td>16.58</td>\n",
              "    </tr>\n",
              "    <tr>\n",
              "      <th>2</th>\n",
              "      <td>3</td>\n",
              "      <td>1</td>\n",
              "      <td>No</td>\n",
              "      <td>1</td>\n",
              "      <td>ME</td>\n",
              "      <td>USA</td>\n",
              "      <td>1</td>\n",
              "      <td>28</td>\n",
              "      <td>Yes</td>\n",
              "      <td>1</td>\n",
              "      <td>0</td>\n",
              "      <td>0</td>\n",
              "      <td>None</td>\n",
              "      <td>1</td>\n",
              "      <td>1</td>\n",
              "      <td>0</td>\n",
              "      <td>1</td>\n",
              "      <td>49.231936</td>\n",
              "      <td>29.94</td>\n",
              "    </tr>\n",
              "    <tr>\n",
              "      <th>3</th>\n",
              "      <td>4</td>\n",
              "      <td>0</td>\n",
              "      <td>Yes</td>\n",
              "      <td>1</td>\n",
              "      <td>NH</td>\n",
              "      <td>USA</td>\n",
              "      <td>1</td>\n",
              "      <td>35</td>\n",
              "      <td>No</td>\n",
              "      <td>0</td>\n",
              "      <td>0</td>\n",
              "      <td>0</td>\n",
              "      <td>None</td>\n",
              "      <td>0</td>\n",
              "      <td>1</td>\n",
              "      <td>1</td>\n",
              "      <td>0</td>\n",
              "      <td>55.508722</td>\n",
              "      <td>49.95</td>\n",
              "    </tr>\n",
              "    <tr>\n",
              "      <th>4</th>\n",
              "      <td>5</td>\n",
              "      <td>1</td>\n",
              "      <td>No</td>\n",
              "      <td>0</td>\n",
              "      <td>NaN</td>\n",
              "      <td>MEX</td>\n",
              "      <td>1</td>\n",
              "      <td>44</td>\n",
              "      <td>No</td>\n",
              "      <td>1</td>\n",
              "      <td>0</td>\n",
              "      <td>1</td>\n",
              "      <td>Vanilla</td>\n",
              "      <td>0</td>\n",
              "      <td>1</td>\n",
              "      <td>0</td>\n",
              "      <td>0</td>\n",
              "      <td>61.019885</td>\n",
              "      <td>36.62</td>\n",
              "    </tr>\n",
              "  </tbody>\n",
              "</table>\n",
              "</div>\n",
              "      <button class=\"colab-df-convert\" onclick=\"convertToInteractive('df-593b316b-2495-41d6-b3a2-6f03fa7166eb')\"\n",
              "              title=\"Convert this dataframe to an interactive table.\"\n",
              "              style=\"display:none;\">\n",
              "        \n",
              "  <svg xmlns=\"http://www.w3.org/2000/svg\" height=\"24px\"viewBox=\"0 0 24 24\"\n",
              "       width=\"24px\">\n",
              "    <path d=\"M0 0h24v24H0V0z\" fill=\"none\"/>\n",
              "    <path d=\"M18.56 5.44l.94 2.06.94-2.06 2.06-.94-2.06-.94-.94-2.06-.94 2.06-2.06.94zm-11 1L8.5 8.5l.94-2.06 2.06-.94-2.06-.94L8.5 2.5l-.94 2.06-2.06.94zm10 10l.94 2.06.94-2.06 2.06-.94-2.06-.94-.94-2.06-.94 2.06-2.06.94z\"/><path d=\"M17.41 7.96l-1.37-1.37c-.4-.4-.92-.59-1.43-.59-.52 0-1.04.2-1.43.59L10.3 9.45l-7.72 7.72c-.78.78-.78 2.05 0 2.83L4 21.41c.39.39.9.59 1.41.59.51 0 1.02-.2 1.41-.59l7.78-7.78 2.81-2.81c.8-.78.8-2.07 0-2.86zM5.41 20L4 18.59l7.72-7.72 1.47 1.35L5.41 20z\"/>\n",
              "  </svg>\n",
              "      </button>\n",
              "      \n",
              "  <style>\n",
              "    .colab-df-container {\n",
              "      display:flex;\n",
              "      flex-wrap:wrap;\n",
              "      gap: 12px;\n",
              "    }\n",
              "\n",
              "    .colab-df-convert {\n",
              "      background-color: #E8F0FE;\n",
              "      border: none;\n",
              "      border-radius: 50%;\n",
              "      cursor: pointer;\n",
              "      display: none;\n",
              "      fill: #1967D2;\n",
              "      height: 32px;\n",
              "      padding: 0 0 0 0;\n",
              "      width: 32px;\n",
              "    }\n",
              "\n",
              "    .colab-df-convert:hover {\n",
              "      background-color: #E2EBFA;\n",
              "      box-shadow: 0px 1px 2px rgba(60, 64, 67, 0.3), 0px 1px 3px 1px rgba(60, 64, 67, 0.15);\n",
              "      fill: #174EA6;\n",
              "    }\n",
              "\n",
              "    [theme=dark] .colab-df-convert {\n",
              "      background-color: #3B4455;\n",
              "      fill: #D2E3FC;\n",
              "    }\n",
              "\n",
              "    [theme=dark] .colab-df-convert:hover {\n",
              "      background-color: #434B5C;\n",
              "      box-shadow: 0px 1px 3px 1px rgba(0, 0, 0, 0.15);\n",
              "      filter: drop-shadow(0px 1px 2px rgba(0, 0, 0, 0.3));\n",
              "      fill: #FFFFFF;\n",
              "    }\n",
              "  </style>\n",
              "\n",
              "      <script>\n",
              "        const buttonEl =\n",
              "          document.querySelector('#df-593b316b-2495-41d6-b3a2-6f03fa7166eb button.colab-df-convert');\n",
              "        buttonEl.style.display =\n",
              "          google.colab.kernel.accessAllowed ? 'block' : 'none';\n",
              "\n",
              "        async function convertToInteractive(key) {\n",
              "          const element = document.querySelector('#df-593b316b-2495-41d6-b3a2-6f03fa7166eb');\n",
              "          const dataTable =\n",
              "            await google.colab.kernel.invokeFunction('convertToInteractive',\n",
              "                                                     [key], {});\n",
              "          if (!dataTable) return;\n",
              "\n",
              "          const docLinkHtml = 'Like what you see? Visit the ' +\n",
              "            '<a target=\"_blank\" href=https://colab.research.google.com/notebooks/data_table.ipynb>data table notebook</a>'\n",
              "            + ' to learn more about interactive tables.';\n",
              "          element.innerHTML = '';\n",
              "          dataTable['output_type'] = 'display_data';\n",
              "          await google.colab.output.renderOutput(dataTable, element);\n",
              "          const docLink = document.createElement('div');\n",
              "          docLink.innerHTML = docLinkHtml;\n",
              "          element.appendChild(docLink);\n",
              "        }\n",
              "      </script>\n",
              "    </div>\n",
              "  </div>\n",
              "  "
            ]
          },
          "metadata": {},
          "execution_count": 191
        }
      ]
    },
    {
      "cell_type": "markdown",
      "source": [
        "B. How many rows of the dataset are visible in Jupyter now?"
      ],
      "metadata": {
        "id": "jga0MU6vJuO9"
      }
    },
    {
      "cell_type": "code",
      "source": [
        "len(july4)"
      ],
      "metadata": {
        "colab": {
          "base_uri": "https://localhost:8080/"
        },
        "id": "4dqgLsYoBp8Y",
        "outputId": "ec7751de-2a72-47e3-950d-d4e1df037298"
      },
      "execution_count": null,
      "outputs": [
        {
          "output_type": "execute_result",
          "data": {
            "text/plain": [
              "5216"
            ]
          },
          "metadata": {},
          "execution_count": 192
        }
      ]
    },
    {
      "cell_type": "markdown",
      "source": [
        "*5216 rows of the dataset are visible.*"
      ],
      "metadata": {
        "id": "ql-wO5x_MwJ3"
      }
    },
    {
      "cell_type": "markdown",
      "source": [
        "C. Take a look at the dataset’s shape attribute.\n",
        "> a. How many rows, and how many columns, are in this entire dataframe?\n",
        "\n"
      ],
      "metadata": {
        "id": "k8AreMHmJxpW"
      }
    },
    {
      "cell_type": "code",
      "source": [
        "july4.shape"
      ],
      "metadata": {
        "colab": {
          "base_uri": "https://localhost:8080/"
        },
        "id": "q8LZkncsCC-L",
        "outputId": "ac1013f2-d266-4056-dae7-4b2df213d458"
      },
      "execution_count": null,
      "outputs": [
        {
          "output_type": "execute_result",
          "data": {
            "text/plain": [
              "(5216, 19)"
            ]
          },
          "metadata": {},
          "execution_count": 193
        }
      ]
    },
    {
      "cell_type": "markdown",
      "source": [
        "*There are 5216 rows and 19 columns in the entire dataframe.*"
      ],
      "metadata": {
        "id": "IUV4fE9SM8pC"
      }
    },
    {
      "cell_type": "markdown",
      "source": [
        "\n",
        "D. Read the dataset description, and take a look at the variables in the dataset.\n",
        "> a. Which of your variables should be seen as categorical, and which ones\n",
        "should be seen as numeric?\n",
        "\n"
      ],
      "metadata": {
        "id": "JARZvUHSKBaL"
      }
    },
    {
      "cell_type": "code",
      "source": [
        "july4.info()"
      ],
      "metadata": {
        "colab": {
          "base_uri": "https://localhost:8080/"
        },
        "id": "MH9HiVJFC933",
        "outputId": "158786fa-431b-4057-a713-5359400d9695"
      },
      "execution_count": null,
      "outputs": [
        {
          "output_type": "stream",
          "name": "stdout",
          "text": [
            "<class 'pandas.core.frame.DataFrame'>\n",
            "RangeIndex: 5216 entries, 0 to 5215\n",
            "Data columns (total 19 columns):\n",
            " #   Column            Non-Null Count  Dtype  \n",
            "---  ------            --------------  -----  \n",
            " 0   visitor           5216 non-null   int64  \n",
            " 1   day_pass          5216 non-null   int64  \n",
            " 2   season_ticket     5216 non-null   object \n",
            " 3   domestic          5216 non-null   int64  \n",
            " 4   state             4127 non-null   object \n",
            " 5   country           5160 non-null   object \n",
            " 6   gender            5216 non-null   int64  \n",
            " 7   age               5216 non-null   int64  \n",
            " 8   maine_res         5216 non-null   object \n",
            " 9   stay_four         5216 non-null   int64  \n",
            " 10  payment_method    5216 non-null   int64  \n",
            " 11  ice_cream_purch   5216 non-null   int64  \n",
            " 12  ice_cream_flavor  5216 non-null   object \n",
            " 13  sky_chair         5216 non-null   int64  \n",
            " 14  ferris_wheel      5216 non-null   int64  \n",
            " 15  lobster_claw      5216 non-null   int64  \n",
            " 16  lobster_junior    5216 non-null   int64  \n",
            " 17  merch_spend       5216 non-null   float64\n",
            " 18  lobsterama_spend  5216 non-null   float64\n",
            "dtypes: float64(2), int64(12), object(5)\n",
            "memory usage: 774.4+ KB\n"
          ]
        }
      ]
    },
    {
      "cell_type": "markdown",
      "source": [
        "*5 variables should be seen as categorical and 14 variables should be seen as numeric.*"
      ],
      "metadata": {
        "id": "qBFTK0KXNObE"
      }
    },
    {
      "cell_type": "markdown",
      "source": [
        "E. Lobsterland has two monetary-related variables in this dataset. One of them has too many decimal places! This was caused by an issue with Lobster Land’s software system. Using Python, round that variable’s values to just two digits."
      ],
      "metadata": {
        "id": "mODOcAN4KOMS"
      }
    },
    {
      "cell_type": "code",
      "source": [
        "july4.merch_spend = july4.merch_spend.round(2)"
      ],
      "metadata": {
        "id": "Wizg34bZDgpk"
      },
      "execution_count": null,
      "outputs": []
    },
    {
      "cell_type": "markdown",
      "source": [
        "F. Are there any missing values in this dataset? If so, how many total values are missing? Use Python code to answer this question.\n",
        "> a. What percentage of ALL of the values in this entire dataframe are NaN?\n",
        "\n"
      ],
      "metadata": {
        "id": "cIzhYtkOKWiX"
      }
    },
    {
      "cell_type": "code",
      "source": [
        "july4.isna().sum().sum()"
      ],
      "metadata": {
        "colab": {
          "base_uri": "https://localhost:8080/"
        },
        "id": "_bXZNF4VOAHk",
        "outputId": "423c488f-961e-4531-80cf-64761b92fc96"
      },
      "execution_count": null,
      "outputs": [
        {
          "output_type": "execute_result",
          "data": {
            "text/plain": [
              "1145"
            ]
          },
          "metadata": {},
          "execution_count": 198
        }
      ]
    },
    {
      "cell_type": "code",
      "source": [
        "july4.isna().mean().mean().round(4) * 100"
      ],
      "metadata": {
        "colab": {
          "base_uri": "https://localhost:8080/"
        },
        "id": "lLsSIvSr2Z33",
        "outputId": "5e93b099-fe5f-4838-96c5-b20a4844e40b"
      },
      "execution_count": null,
      "outputs": [
        {
          "output_type": "execute_result",
          "data": {
            "text/plain": [
              "1.16"
            ]
          },
          "metadata": {},
          "execution_count": 199
        }
      ]
    },
    {
      "cell_type": "markdown",
      "source": [
        "*1145 values are missing in the dataset. 1.16% of all the values in the entire dataframe are NaN.*"
      ],
      "metadata": {
        "id": "ttpfEUiGOMCu"
      }
    },
    {
      "cell_type": "markdown",
      "source": [
        "\n",
        "\n",
        "> b. Generate a table that shows the percentage of missing values for each column in the dataset.\n",
        "\n"
      ],
      "metadata": {
        "id": "4W1AauppKi0G"
      }
    },
    {
      "cell_type": "code",
      "source": [
        "july4_na=july4.isna().mean().round(4) * 100\n",
        "na_data = pd.DataFrame({'Missing percent' :july4_na})\n",
        "na_data"
      ],
      "metadata": {
        "colab": {
          "base_uri": "https://localhost:8080/",
          "height": 638
        },
        "id": "Jnc1liMV3KH9",
        "outputId": "30177e94-cfe4-47db-db1c-52ad6f9aba14"
      },
      "execution_count": null,
      "outputs": [
        {
          "output_type": "execute_result",
          "data": {
            "text/plain": [
              "                  Missing percent\n",
              "visitor                      0.00\n",
              "day_pass                     0.00\n",
              "season_ticket                0.00\n",
              "domestic                     0.00\n",
              "state                       20.88\n",
              "country                      1.07\n",
              "gender                       0.00\n",
              "age                          0.00\n",
              "maine_res                    0.00\n",
              "stay_four                    0.00\n",
              "payment_method               0.00\n",
              "ice_cream_purch              0.00\n",
              "ice_cream_flavor             0.00\n",
              "sky_chair                    0.00\n",
              "ferris_wheel                 0.00\n",
              "lobster_claw                 0.00\n",
              "lobster_junior               0.00\n",
              "merch_spend                  0.00\n",
              "lobsterama_spend             0.00"
            ],
            "text/html": [
              "\n",
              "  <div id=\"df-30abc45d-2538-4e4a-a964-859cdefa020b\">\n",
              "    <div class=\"colab-df-container\">\n",
              "      <div>\n",
              "<style scoped>\n",
              "    .dataframe tbody tr th:only-of-type {\n",
              "        vertical-align: middle;\n",
              "    }\n",
              "\n",
              "    .dataframe tbody tr th {\n",
              "        vertical-align: top;\n",
              "    }\n",
              "\n",
              "    .dataframe thead th {\n",
              "        text-align: right;\n",
              "    }\n",
              "</style>\n",
              "<table border=\"1\" class=\"dataframe\">\n",
              "  <thead>\n",
              "    <tr style=\"text-align: right;\">\n",
              "      <th></th>\n",
              "      <th>Missing percent</th>\n",
              "    </tr>\n",
              "  </thead>\n",
              "  <tbody>\n",
              "    <tr>\n",
              "      <th>visitor</th>\n",
              "      <td>0.00</td>\n",
              "    </tr>\n",
              "    <tr>\n",
              "      <th>day_pass</th>\n",
              "      <td>0.00</td>\n",
              "    </tr>\n",
              "    <tr>\n",
              "      <th>season_ticket</th>\n",
              "      <td>0.00</td>\n",
              "    </tr>\n",
              "    <tr>\n",
              "      <th>domestic</th>\n",
              "      <td>0.00</td>\n",
              "    </tr>\n",
              "    <tr>\n",
              "      <th>state</th>\n",
              "      <td>20.88</td>\n",
              "    </tr>\n",
              "    <tr>\n",
              "      <th>country</th>\n",
              "      <td>1.07</td>\n",
              "    </tr>\n",
              "    <tr>\n",
              "      <th>gender</th>\n",
              "      <td>0.00</td>\n",
              "    </tr>\n",
              "    <tr>\n",
              "      <th>age</th>\n",
              "      <td>0.00</td>\n",
              "    </tr>\n",
              "    <tr>\n",
              "      <th>maine_res</th>\n",
              "      <td>0.00</td>\n",
              "    </tr>\n",
              "    <tr>\n",
              "      <th>stay_four</th>\n",
              "      <td>0.00</td>\n",
              "    </tr>\n",
              "    <tr>\n",
              "      <th>payment_method</th>\n",
              "      <td>0.00</td>\n",
              "    </tr>\n",
              "    <tr>\n",
              "      <th>ice_cream_purch</th>\n",
              "      <td>0.00</td>\n",
              "    </tr>\n",
              "    <tr>\n",
              "      <th>ice_cream_flavor</th>\n",
              "      <td>0.00</td>\n",
              "    </tr>\n",
              "    <tr>\n",
              "      <th>sky_chair</th>\n",
              "      <td>0.00</td>\n",
              "    </tr>\n",
              "    <tr>\n",
              "      <th>ferris_wheel</th>\n",
              "      <td>0.00</td>\n",
              "    </tr>\n",
              "    <tr>\n",
              "      <th>lobster_claw</th>\n",
              "      <td>0.00</td>\n",
              "    </tr>\n",
              "    <tr>\n",
              "      <th>lobster_junior</th>\n",
              "      <td>0.00</td>\n",
              "    </tr>\n",
              "    <tr>\n",
              "      <th>merch_spend</th>\n",
              "      <td>0.00</td>\n",
              "    </tr>\n",
              "    <tr>\n",
              "      <th>lobsterama_spend</th>\n",
              "      <td>0.00</td>\n",
              "    </tr>\n",
              "  </tbody>\n",
              "</table>\n",
              "</div>\n",
              "      <button class=\"colab-df-convert\" onclick=\"convertToInteractive('df-30abc45d-2538-4e4a-a964-859cdefa020b')\"\n",
              "              title=\"Convert this dataframe to an interactive table.\"\n",
              "              style=\"display:none;\">\n",
              "        \n",
              "  <svg xmlns=\"http://www.w3.org/2000/svg\" height=\"24px\"viewBox=\"0 0 24 24\"\n",
              "       width=\"24px\">\n",
              "    <path d=\"M0 0h24v24H0V0z\" fill=\"none\"/>\n",
              "    <path d=\"M18.56 5.44l.94 2.06.94-2.06 2.06-.94-2.06-.94-.94-2.06-.94 2.06-2.06.94zm-11 1L8.5 8.5l.94-2.06 2.06-.94-2.06-.94L8.5 2.5l-.94 2.06-2.06.94zm10 10l.94 2.06.94-2.06 2.06-.94-2.06-.94-.94-2.06-.94 2.06-2.06.94z\"/><path d=\"M17.41 7.96l-1.37-1.37c-.4-.4-.92-.59-1.43-.59-.52 0-1.04.2-1.43.59L10.3 9.45l-7.72 7.72c-.78.78-.78 2.05 0 2.83L4 21.41c.39.39.9.59 1.41.59.51 0 1.02-.2 1.41-.59l7.78-7.78 2.81-2.81c.8-.78.8-2.07 0-2.86zM5.41 20L4 18.59l7.72-7.72 1.47 1.35L5.41 20z\"/>\n",
              "  </svg>\n",
              "      </button>\n",
              "      \n",
              "  <style>\n",
              "    .colab-df-container {\n",
              "      display:flex;\n",
              "      flex-wrap:wrap;\n",
              "      gap: 12px;\n",
              "    }\n",
              "\n",
              "    .colab-df-convert {\n",
              "      background-color: #E8F0FE;\n",
              "      border: none;\n",
              "      border-radius: 50%;\n",
              "      cursor: pointer;\n",
              "      display: none;\n",
              "      fill: #1967D2;\n",
              "      height: 32px;\n",
              "      padding: 0 0 0 0;\n",
              "      width: 32px;\n",
              "    }\n",
              "\n",
              "    .colab-df-convert:hover {\n",
              "      background-color: #E2EBFA;\n",
              "      box-shadow: 0px 1px 2px rgba(60, 64, 67, 0.3), 0px 1px 3px 1px rgba(60, 64, 67, 0.15);\n",
              "      fill: #174EA6;\n",
              "    }\n",
              "\n",
              "    [theme=dark] .colab-df-convert {\n",
              "      background-color: #3B4455;\n",
              "      fill: #D2E3FC;\n",
              "    }\n",
              "\n",
              "    [theme=dark] .colab-df-convert:hover {\n",
              "      background-color: #434B5C;\n",
              "      box-shadow: 0px 1px 3px 1px rgba(0, 0, 0, 0.15);\n",
              "      filter: drop-shadow(0px 1px 2px rgba(0, 0, 0, 0.3));\n",
              "      fill: #FFFFFF;\n",
              "    }\n",
              "  </style>\n",
              "\n",
              "      <script>\n",
              "        const buttonEl =\n",
              "          document.querySelector('#df-30abc45d-2538-4e4a-a964-859cdefa020b button.colab-df-convert');\n",
              "        buttonEl.style.display =\n",
              "          google.colab.kernel.accessAllowed ? 'block' : 'none';\n",
              "\n",
              "        async function convertToInteractive(key) {\n",
              "          const element = document.querySelector('#df-30abc45d-2538-4e4a-a964-859cdefa020b');\n",
              "          const dataTable =\n",
              "            await google.colab.kernel.invokeFunction('convertToInteractive',\n",
              "                                                     [key], {});\n",
              "          if (!dataTable) return;\n",
              "\n",
              "          const docLinkHtml = 'Like what you see? Visit the ' +\n",
              "            '<a target=\"_blank\" href=https://colab.research.google.com/notebooks/data_table.ipynb>data table notebook</a>'\n",
              "            + ' to learn more about interactive tables.';\n",
              "          element.innerHTML = '';\n",
              "          dataTable['output_type'] = 'display_data';\n",
              "          await google.colab.output.renderOutput(dataTable, element);\n",
              "          const docLink = document.createElement('div');\n",
              "          docLink.innerHTML = docLinkHtml;\n",
              "          element.appendChild(docLink);\n",
              "        }\n",
              "      </script>\n",
              "    </div>\n",
              "  </div>\n",
              "  "
            ]
          },
          "metadata": {},
          "execution_count": 147
        }
      ]
    },
    {
      "cell_type": "markdown",
      "source": [
        "\n",
        "\n",
        "> c. Using the missingno package in Python, display a matrix that depicts missing values within the dataset as white spaces.\n"
      ],
      "metadata": {
        "id": "EFLS_-H4KoG5"
      }
    },
    {
      "cell_type": "code",
      "source": [
        "msno.matrix(july4)"
      ],
      "metadata": {
        "colab": {
          "base_uri": "https://localhost:8080/",
          "height": 454
        },
        "id": "-58whR2_3KhW",
        "outputId": "45ee1e9b-f603-422c-cf6e-aa85b7955cdf"
      },
      "execution_count": null,
      "outputs": [
        {
          "output_type": "execute_result",
          "data": {
            "text/plain": [
              "<matplotlib.axes._subplots.AxesSubplot at 0x7fc7e344c820>"
            ]
          },
          "metadata": {},
          "execution_count": 148
        },
        {
          "output_type": "display_data",
          "data": {
            "text/plain": [
              "<Figure size 1800x720 with 2 Axes>"
            ],
            "image/png": "[encoded data removed]"
          },
          "metadata": {
            "needs_background": "light"
          }
        }
      ]
    },
    {
      "cell_type": "markdown",
      "source": [
        "\n",
        "\n",
        "> d. Again using the missingno package in Python, display a bar chart that depicts missingness (or completeness) for each variable.\n",
        "\n"
      ],
      "metadata": {
        "id": "gxnVJYptKsow"
      }
    },
    {
      "cell_type": "code",
      "source": [
        "msno.bar(july4)"
      ],
      "metadata": {
        "colab": {
          "base_uri": "https://localhost:8080/",
          "height": 474
        },
        "id": "kuDqCEqWkNw1",
        "outputId": "d79dde4e-5940-4810-e95b-fadd1852d7c3"
      },
      "execution_count": null,
      "outputs": [
        {
          "output_type": "execute_result",
          "data": {
            "text/plain": [
              "<matplotlib.axes._subplots.AxesSubplot at 0x7fc7e33a4f10>"
            ]
          },
          "metadata": {},
          "execution_count": 149
        },
        {
          "output_type": "display_data",
          "data": {
            "text/plain": [
              "<Figure size 1800x720 with 3 Axes>"
            ],
            "image/png": "[encoded data removed]"
          },
          "metadata": {
            "needs_background": "light"
          }
        }
      ]
    },
    {
      "cell_type": "markdown",
      "source": [
        "> e. Make a separate subset of the dataframe that only includes the rows that have NaN values for ‘state’. What important thing do they all have in common, which helps to explain why there are NaN values for these rows?\n",
        "\n"
      ],
      "metadata": {
        "id": "CF0mi74vL97d"
      }
    },
    {
      "cell_type": "code",
      "source": [
        "na_state =july4.loc[(july4['state'].isna())]\n",
        "na_state"
      ],
      "metadata": {
        "colab": {
          "base_uri": "https://localhost:8080/",
          "height": 483
        },
        "id": "614_5yZCkZHt",
        "outputId": "cd20d354-c944-4047-88e0-c65b1ee6a53e"
      },
      "execution_count": null,
      "outputs": [
        {
          "output_type": "execute_result",
          "data": {
            "text/plain": [
              "      visitor  day_pass season_ticket  domestic state country  gender  age  \\\n",
              "4           5         1            No         0   NaN     MEX       1   44   \n",
              "10         11         1            No         0   NaN     CAN       1   37   \n",
              "12         13         1            No         0   NaN     CHN       1   38   \n",
              "14         15         1            No         0   NaN     BRA       1   40   \n",
              "17         18         1            No         0   NaN     CAN       0   31   \n",
              "...       ...       ...           ...       ...   ...     ...     ...  ...   \n",
              "5202     5203         1            No         0   NaN     CAN       0   34   \n",
              "5205     5206         1            No         0   NaN     CAN       1   39   \n",
              "5206     5207         1            No         0   NaN     CHN       0   38   \n",
              "5207     5208         1            No         0   NaN     CAN       1   35   \n",
              "5212     5213         1            No         0   NaN      UK       1   30   \n",
              "\n",
              "     maine_res  stay_four  payment_method  ice_cream_purch ice_cream_flavor  \\\n",
              "4           No          1               0                1          Vanilla   \n",
              "10          No          1               0                1          Vanilla   \n",
              "12          No          1               0                0             None   \n",
              "14          No          1               0                1          Vanilla   \n",
              "17          No          1               0                1        Chocolate   \n",
              "...        ...        ...             ...              ...              ...   \n",
              "5202        No          1               0                1          Vanilla   \n",
              "5205        No          1               0                1        Chocolate   \n",
              "5206        No          1               0                0             None   \n",
              "5207        No          1               0                1        Chocolate   \n",
              "5212        No          1               0                1          Vanilla   \n",
              "\n",
              "      sky_chair  ferris_wheel  lobster_claw  lobster_junior  merch_spend  \\\n",
              "4             0             1             0               0        61.02   \n",
              "10            0             0             0               0        67.39   \n",
              "12            1             1             1               1        58.12   \n",
              "14            1             1             1               0        49.35   \n",
              "17            1             0             1               1        58.28   \n",
              "...         ...           ...           ...             ...          ...   \n",
              "5202          1             1             0               0        48.31   \n",
              "5205          1             1             0               1        51.94   \n",
              "5206          0             1             0               1        63.49   \n",
              "5207          1             1             0               0        59.63   \n",
              "5212          1             1             0               0        43.17   \n",
              "\n",
              "      lobsterama_spend  \n",
              "4                36.62  \n",
              "10               35.51  \n",
              "12               30.27  \n",
              "14               28.40  \n",
              "17               29.02  \n",
              "...                ...  \n",
              "5202             25.38  \n",
              "5205             29.45  \n",
              "5206             27.57  \n",
              "5207             32.26  \n",
              "5212             23.71  \n",
              "\n",
              "[1089 rows x 19 columns]"
            ],
            "text/html": [
              "\n",
              "  <div id=\"df-0131b22f-6987-4b6a-a710-757f6150377c\">\n",
              "    <div class=\"colab-df-container\">\n",
              "      <div>\n",
              "<style scoped>\n",
              "    .dataframe tbody tr th:only-of-type {\n",
              "        vertical-align: middle;\n",
              "    }\n",
              "\n",
              "    .dataframe tbody tr th {\n",
              "        vertical-align: top;\n",
              "    }\n",
              "\n",
              "    .dataframe thead th {\n",
              "        text-align: right;\n",
              "    }\n",
              "</style>\n",
              "<table border=\"1\" class=\"dataframe\">\n",
              "  <thead>\n",
              "    <tr style=\"text-align: right;\">\n",
              "      <th></th>\n",
              "      <th>visitor</th>\n",
              "      <th>day_pass</th>\n",
              "      <th>season_ticket</th>\n",
              "      <th>domestic</th>\n",
              "      <th>state</th>\n",
              "      <th>country</th>\n",
              "      <th>gender</th>\n",
              "      <th>age</th>\n",
              "      <th>maine_res</th>\n",
              "      <th>stay_four</th>\n",
              "      <th>payment_method</th>\n",
              "      <th>ice_cream_purch</th>\n",
              "      <th>ice_cream_flavor</th>\n",
              "      <th>sky_chair</th>\n",
              "      <th>ferris_wheel</th>\n",
              "      <th>lobster_claw</th>\n",
              "      <th>lobster_junior</th>\n",
              "      <th>merch_spend</th>\n",
              "      <th>lobsterama_spend</th>\n",
              "    </tr>\n",
              "  </thead>\n",
              "  <tbody>\n",
              "    <tr>\n",
              "      <th>4</th>\n",
              "      <td>5</td>\n",
              "      <td>1</td>\n",
              "      <td>No</td>\n",
              "      <td>0</td>\n",
              "      <td>NaN</td>\n",
              "      <td>MEX</td>\n",
              "      <td>1</td>\n",
              "      <td>44</td>\n",
              "      <td>No</td>\n",
              "      <td>1</td>\n",
              "      <td>0</td>\n",
              "      <td>1</td>\n",
              "      <td>Vanilla</td>\n",
              "      <td>0</td>\n",
              "      <td>1</td>\n",
              "      <td>0</td>\n",
              "      <td>0</td>\n",
              "      <td>61.02</td>\n",
              "      <td>36.62</td>\n",
              "    </tr>\n",
              "    <tr>\n",
              "      <th>10</th>\n",
              "      <td>11</td>\n",
              "      <td>1</td>\n",
              "      <td>No</td>\n",
              "      <td>0</td>\n",
              "      <td>NaN</td>\n",
              "      <td>CAN</td>\n",
              "      <td>1</td>\n",
              "      <td>37</td>\n",
              "      <td>No</td>\n",
              "      <td>1</td>\n",
              "      <td>0</td>\n",
              "      <td>1</td>\n",
              "      <td>Vanilla</td>\n",
              "      <td>0</td>\n",
              "      <td>0</td>\n",
              "      <td>0</td>\n",
              "      <td>0</td>\n",
              "      <td>67.39</td>\n",
              "      <td>35.51</td>\n",
              "    </tr>\n",
              "    <tr>\n",
              "      <th>12</th>\n",
              "      <td>13</td>\n",
              "      <td>1</td>\n",
              "      <td>No</td>\n",
              "      <td>0</td>\n",
              "      <td>NaN</td>\n",
              "      <td>CHN</td>\n",
              "      <td>1</td>\n",
              "      <td>38</td>\n",
              "      <td>No</td>\n",
              "      <td>1</td>\n",
              "      <td>0</td>\n",
              "      <td>0</td>\n",
              "      <td>None</td>\n",
              "      <td>1</td>\n",
              "      <td>1</td>\n",
              "      <td>1</td>\n",
              "      <td>1</td>\n",
              "      <td>58.12</td>\n",
              "      <td>30.27</td>\n",
              "    </tr>\n",
              "    <tr>\n",
              "      <th>14</th>\n",
              "      <td>15</td>\n",
              "      <td>1</td>\n",
              "      <td>No</td>\n",
              "      <td>0</td>\n",
              "      <td>NaN</td>\n",
              "      <td>BRA</td>\n",
              "      <td>1</td>\n",
              "      <td>40</td>\n",
              "      <td>No</td>\n",
              "      <td>1</td>\n",
              "      <td>0</td>\n",
              "      <td>1</td>\n",
              "      <td>Vanilla</td>\n",
              "      <td>1</td>\n",
              "      <td>1</td>\n",
              "      <td>1</td>\n",
              "      <td>0</td>\n",
              "      <td>49.35</td>\n",
              "      <td>28.40</td>\n",
              "    </tr>\n",
              "    <tr>\n",
              "      <th>17</th>\n",
              "      <td>18</td>\n",
              "      <td>1</td>\n",
              "      <td>No</td>\n",
              "      <td>0</td>\n",
              "      <td>NaN</td>\n",
              "      <td>CAN</td>\n",
              "      <td>0</td>\n",
              "      <td>31</td>\n",
              "      <td>No</td>\n",
              "      <td>1</td>\n",
              "      <td>0</td>\n",
              "      <td>1</td>\n",
              "      <td>Chocolate</td>\n",
              "      <td>1</td>\n",
              "      <td>0</td>\n",
              "      <td>1</td>\n",
              "      <td>1</td>\n",
              "      <td>58.28</td>\n",
              "      <td>29.02</td>\n",
              "    </tr>\n",
              "    <tr>\n",
              "      <th>...</th>\n",
              "      <td>...</td>\n",
              "      <td>...</td>\n",
              "      <td>...</td>\n",
              "      <td>...</td>\n",
              "      <td>...</td>\n",
              "      <td>...</td>\n",
              "      <td>...</td>\n",
              "      <td>...</td>\n",
              "      <td>...</td>\n",
              "      <td>...</td>\n",
              "      <td>...</td>\n",
              "      <td>...</td>\n",
              "      <td>...</td>\n",
              "      <td>...</td>\n",
              "      <td>...</td>\n",
              "      <td>...</td>\n",
              "      <td>...</td>\n",
              "      <td>...</td>\n",
              "      <td>...</td>\n",
              "    </tr>\n",
              "    <tr>\n",
              "      <th>5202</th>\n",
              "      <td>5203</td>\n",
              "      <td>1</td>\n",
              "      <td>No</td>\n",
              "      <td>0</td>\n",
              "      <td>NaN</td>\n",
              "      <td>CAN</td>\n",
              "      <td>0</td>\n",
              "      <td>34</td>\n",
              "      <td>No</td>\n",
              "      <td>1</td>\n",
              "      <td>0</td>\n",
              "      <td>1</td>\n",
              "      <td>Vanilla</td>\n",
              "      <td>1</td>\n",
              "      <td>1</td>\n",
              "      <td>0</td>\n",
              "      <td>0</td>\n",
              "      <td>48.31</td>\n",
              "      <td>25.38</td>\n",
              "    </tr>\n",
              "    <tr>\n",
              "      <th>5205</th>\n",
              "      <td>5206</td>\n",
              "      <td>1</td>\n",
              "      <td>No</td>\n",
              "      <td>0</td>\n",
              "      <td>NaN</td>\n",
              "      <td>CAN</td>\n",
              "      <td>1</td>\n",
              "      <td>39</td>\n",
              "      <td>No</td>\n",
              "      <td>1</td>\n",
              "      <td>0</td>\n",
              "      <td>1</td>\n",
              "      <td>Chocolate</td>\n",
              "      <td>1</td>\n",
              "      <td>1</td>\n",
              "      <td>0</td>\n",
              "      <td>1</td>\n",
              "      <td>51.94</td>\n",
              "      <td>29.45</td>\n",
              "    </tr>\n",
              "    <tr>\n",
              "      <th>5206</th>\n",
              "      <td>5207</td>\n",
              "      <td>1</td>\n",
              "      <td>No</td>\n",
              "      <td>0</td>\n",
              "      <td>NaN</td>\n",
              "      <td>CHN</td>\n",
              "      <td>0</td>\n",
              "      <td>38</td>\n",
              "      <td>No</td>\n",
              "      <td>1</td>\n",
              "      <td>0</td>\n",
              "      <td>0</td>\n",
              "      <td>None</td>\n",
              "      <td>0</td>\n",
              "      <td>1</td>\n",
              "      <td>0</td>\n",
              "      <td>1</td>\n",
              "      <td>63.49</td>\n",
              "      <td>27.57</td>\n",
              "    </tr>\n",
              "    <tr>\n",
              "      <th>5207</th>\n",
              "      <td>5208</td>\n",
              "      <td>1</td>\n",
              "      <td>No</td>\n",
              "      <td>0</td>\n",
              "      <td>NaN</td>\n",
              "      <td>CAN</td>\n",
              "      <td>1</td>\n",
              "      <td>35</td>\n",
              "      <td>No</td>\n",
              "      <td>1</td>\n",
              "      <td>0</td>\n",
              "      <td>1</td>\n",
              "      <td>Chocolate</td>\n",
              "      <td>1</td>\n",
              "      <td>1</td>\n",
              "      <td>0</td>\n",
              "      <td>0</td>\n",
              "      <td>59.63</td>\n",
              "      <td>32.26</td>\n",
              "    </tr>\n",
              "    <tr>\n",
              "      <th>5212</th>\n",
              "      <td>5213</td>\n",
              "      <td>1</td>\n",
              "      <td>No</td>\n",
              "      <td>0</td>\n",
              "      <td>NaN</td>\n",
              "      <td>UK</td>\n",
              "      <td>1</td>\n",
              "      <td>30</td>\n",
              "      <td>No</td>\n",
              "      <td>1</td>\n",
              "      <td>0</td>\n",
              "      <td>1</td>\n",
              "      <td>Vanilla</td>\n",
              "      <td>1</td>\n",
              "      <td>1</td>\n",
              "      <td>0</td>\n",
              "      <td>0</td>\n",
              "      <td>43.17</td>\n",
              "      <td>23.71</td>\n",
              "    </tr>\n",
              "  </tbody>\n",
              "</table>\n",
              "<p>1089 rows × 19 columns</p>\n",
              "</div>\n",
              "      <button class=\"colab-df-convert\" onclick=\"convertToInteractive('df-0131b22f-6987-4b6a-a710-757f6150377c')\"\n",
              "              title=\"Convert this dataframe to an interactive table.\"\n",
              "              style=\"display:none;\">\n",
              "        \n",
              "  <svg xmlns=\"http://www.w3.org/2000/svg\" height=\"24px\"viewBox=\"0 0 24 24\"\n",
              "       width=\"24px\">\n",
              "    <path d=\"M0 0h24v24H0V0z\" fill=\"none\"/>\n",
              "    <path d=\"M18.56 5.44l.94 2.06.94-2.06 2.06-.94-2.06-.94-.94-2.06-.94 2.06-2.06.94zm-11 1L8.5 8.5l.94-2.06 2.06-.94-2.06-.94L8.5 2.5l-.94 2.06-2.06.94zm10 10l.94 2.06.94-2.06 2.06-.94-2.06-.94-.94-2.06-.94 2.06-2.06.94z\"/><path d=\"M17.41 7.96l-1.37-1.37c-.4-.4-.92-.59-1.43-.59-.52 0-1.04.2-1.43.59L10.3 9.45l-7.72 7.72c-.78.78-.78 2.05 0 2.83L4 21.41c.39.39.9.59 1.41.59.51 0 1.02-.2 1.41-.59l7.78-7.78 2.81-2.81c.8-.78.8-2.07 0-2.86zM5.41 20L4 18.59l7.72-7.72 1.47 1.35L5.41 20z\"/>\n",
              "  </svg>\n",
              "      </button>\n",
              "      \n",
              "  <style>\n",
              "    .colab-df-container {\n",
              "      display:flex;\n",
              "      flex-wrap:wrap;\n",
              "      gap: 12px;\n",
              "    }\n",
              "\n",
              "    .colab-df-convert {\n",
              "      background-color: #E8F0FE;\n",
              "      border: none;\n",
              "      border-radius: 50%;\n",
              "      cursor: pointer;\n",
              "      display: none;\n",
              "      fill: #1967D2;\n",
              "      height: 32px;\n",
              "      padding: 0 0 0 0;\n",
              "      width: 32px;\n",
              "    }\n",
              "\n",
              "    .colab-df-convert:hover {\n",
              "      background-color: #E2EBFA;\n",
              "      box-shadow: 0px 1px 2px rgba(60, 64, 67, 0.3), 0px 1px 3px 1px rgba(60, 64, 67, 0.15);\n",
              "      fill: #174EA6;\n",
              "    }\n",
              "\n",
              "    [theme=dark] .colab-df-convert {\n",
              "      background-color: #3B4455;\n",
              "      fill: #D2E3FC;\n",
              "    }\n",
              "\n",
              "    [theme=dark] .colab-df-convert:hover {\n",
              "      background-color: #434B5C;\n",
              "      box-shadow: 0px 1px 3px 1px rgba(0, 0, 0, 0.15);\n",
              "      filter: drop-shadow(0px 1px 2px rgba(0, 0, 0, 0.3));\n",
              "      fill: #FFFFFF;\n",
              "    }\n",
              "  </style>\n",
              "\n",
              "      <script>\n",
              "        const buttonEl =\n",
              "          document.querySelector('#df-0131b22f-6987-4b6a-a710-757f6150377c button.colab-df-convert');\n",
              "        buttonEl.style.display =\n",
              "          google.colab.kernel.accessAllowed ? 'block' : 'none';\n",
              "\n",
              "        async function convertToInteractive(key) {\n",
              "          const element = document.querySelector('#df-0131b22f-6987-4b6a-a710-757f6150377c');\n",
              "          const dataTable =\n",
              "            await google.colab.kernel.invokeFunction('convertToInteractive',\n",
              "                                                     [key], {});\n",
              "          if (!dataTable) return;\n",
              "\n",
              "          const docLinkHtml = 'Like what you see? Visit the ' +\n",
              "            '<a target=\"_blank\" href=https://colab.research.google.com/notebooks/data_table.ipynb>data table notebook</a>'\n",
              "            + ' to learn more about interactive tables.';\n",
              "          element.innerHTML = '';\n",
              "          dataTable['output_type'] = 'display_data';\n",
              "          await google.colab.output.renderOutput(dataTable, element);\n",
              "          const docLink = document.createElement('div');\n",
              "          docLink.innerHTML = docLinkHtml;\n",
              "          element.appendChild(docLink);\n",
              "        }\n",
              "      </script>\n",
              "    </div>\n",
              "  </div>\n",
              "  "
            ]
          },
          "metadata": {},
          "execution_count": 150
        }
      ]
    },
    {
      "cell_type": "markdown",
      "source": [
        "*After I subset the data frame that only includes the rows that have NaN values for the 'state', I found the values of the country are all non-U.S.A. The reason that the values of the 'state' are NAN is that those consumers were foreigners.*"
      ],
      "metadata": {
        "id": "hX0VCDS0Ypfn"
      }
    },
    {
      "cell_type": "markdown",
      "source": [
        "G. Erroneous Data.\n",
        "\n",
        "> a. We just received an update from the Lobsterland front ticket office.\n",
        "Apparently, some guests’ ages were mistakenly copied down at the time that their tickets were purchased. The youngest age of any guest who purchased a ticket on July 4th was 15. Alter the dataframe so that any guest age currently less than 15 becomes 15.\n",
        "\n"
      ],
      "metadata": {
        "id": "UJukp1tPOxGw"
      }
    },
    {
      "cell_type": "code",
      "source": [
        "july4.loc[july4['age'] < 15, 'age'] = 15\n",
        "july4.describe()"
      ],
      "metadata": {
        "id": "3cwI6L4ZkZgT",
        "colab": {
          "base_uri": "https://localhost:8080/",
          "height": 361
        },
        "outputId": "9921391d-8d96-48d6-9046-03ae89146087"
      },
      "execution_count": null,
      "outputs": [
        {
          "output_type": "execute_result",
          "data": {
            "text/plain": [
              "           visitor     day_pass     domestic       gender          age  \\\n",
              "count  5216.000000  5216.000000  5216.000000  5216.000000  5216.000000   \n",
              "mean   2608.500000     0.622316     0.791219     0.502109    36.301956   \n",
              "std    1505.873833     0.484854     0.406476     0.500043     6.067555   \n",
              "min       1.000000     0.000000     0.000000     0.000000    15.000000   \n",
              "25%    1304.750000     0.000000     1.000000     0.000000    32.000000   \n",
              "50%    2608.500000     1.000000     1.000000     1.000000    36.000000   \n",
              "75%    3912.250000     1.000000     1.000000     1.000000    40.000000   \n",
              "max    5216.000000     1.000000     1.000000     1.000000    57.000000   \n",
              "\n",
              "         stay_four  payment_method  ice_cream_purch    sky_chair  \\\n",
              "count  5216.000000     5216.000000      5216.000000  5216.000000   \n",
              "mean      0.599310        0.146089         0.312692     0.493098   \n",
              "std       0.490085        0.353229         0.463634     0.500000   \n",
              "min       0.000000        0.000000         0.000000     0.000000   \n",
              "25%       0.000000        0.000000         0.000000     0.000000   \n",
              "50%       1.000000        0.000000         0.000000     0.000000   \n",
              "75%       1.000000        0.000000         1.000000     1.000000   \n",
              "max       1.000000        1.000000         1.000000     1.000000   \n",
              "\n",
              "       ferris_wheel  lobster_claw  lobster_junior  merch_spend  \\\n",
              "count   5216.000000   5216.000000     5216.000000  5216.000000   \n",
              "mean       0.474118      0.277416        0.403374    41.725079   \n",
              "std        0.499378      0.447766        0.490622    10.829317   \n",
              "min        0.000000      0.000000        0.000000     5.240000   \n",
              "25%        0.000000      0.000000        0.000000    34.060000   \n",
              "50%        0.000000      0.000000        0.000000    40.735000   \n",
              "75%        1.000000      1.000000        1.000000    48.920000   \n",
              "max        1.000000      1.000000        1.000000    82.720000   \n",
              "\n",
              "       lobsterama_spend  \n",
              "count       5216.000000  \n",
              "mean          28.722268  \n",
              "std           10.557965  \n",
              "min          -11.670000  \n",
              "25%           22.257500  \n",
              "50%           29.440000  \n",
              "75%           35.255000  \n",
              "max           71.900000  "
            ],
            "text/html": [
              "\n",
              "  <div id=\"df-fa7950e8-e0f7-43eb-a114-94eefa3cff20\">\n",
              "    <div class=\"colab-df-container\">\n",
              "      <div>\n",
              "<style scoped>\n",
              "    .dataframe tbody tr th:only-of-type {\n",
              "        vertical-align: middle;\n",
              "    }\n",
              "\n",
              "    .dataframe tbody tr th {\n",
              "        vertical-align: top;\n",
              "    }\n",
              "\n",
              "    .dataframe thead th {\n",
              "        text-align: right;\n",
              "    }\n",
              "</style>\n",
              "<table border=\"1\" class=\"dataframe\">\n",
              "  <thead>\n",
              "    <tr style=\"text-align: right;\">\n",
              "      <th></th>\n",
              "      <th>visitor</th>\n",
              "      <th>day_pass</th>\n",
              "      <th>domestic</th>\n",
              "      <th>gender</th>\n",
              "      <th>age</th>\n",
              "      <th>stay_four</th>\n",
              "      <th>payment_method</th>\n",
              "      <th>ice_cream_purch</th>\n",
              "      <th>sky_chair</th>\n",
              "      <th>ferris_wheel</th>\n",
              "      <th>lobster_claw</th>\n",
              "      <th>lobster_junior</th>\n",
              "      <th>merch_spend</th>\n",
              "      <th>lobsterama_spend</th>\n",
              "    </tr>\n",
              "  </thead>\n",
              "  <tbody>\n",
              "    <tr>\n",
              "      <th>count</th>\n",
              "      <td>5216.000000</td>\n",
              "      <td>5216.000000</td>\n",
              "      <td>5216.000000</td>\n",
              "      <td>5216.000000</td>\n",
              "      <td>5216.000000</td>\n",
              "      <td>5216.000000</td>\n",
              "      <td>5216.000000</td>\n",
              "      <td>5216.000000</td>\n",
              "      <td>5216.000000</td>\n",
              "      <td>5216.000000</td>\n",
              "      <td>5216.000000</td>\n",
              "      <td>5216.000000</td>\n",
              "      <td>5216.000000</td>\n",
              "      <td>5216.000000</td>\n",
              "    </tr>\n",
              "    <tr>\n",
              "      <th>mean</th>\n",
              "      <td>2608.500000</td>\n",
              "      <td>0.622316</td>\n",
              "      <td>0.791219</td>\n",
              "      <td>0.502109</td>\n",
              "      <td>36.301956</td>\n",
              "      <td>0.599310</td>\n",
              "      <td>0.146089</td>\n",
              "      <td>0.312692</td>\n",
              "      <td>0.493098</td>\n",
              "      <td>0.474118</td>\n",
              "      <td>0.277416</td>\n",
              "      <td>0.403374</td>\n",
              "      <td>41.725079</td>\n",
              "      <td>28.722268</td>\n",
              "    </tr>\n",
              "    <tr>\n",
              "      <th>std</th>\n",
              "      <td>1505.873833</td>\n",
              "      <td>0.484854</td>\n",
              "      <td>0.406476</td>\n",
              "      <td>0.500043</td>\n",
              "      <td>6.067555</td>\n",
              "      <td>0.490085</td>\n",
              "      <td>0.353229</td>\n",
              "      <td>0.463634</td>\n",
              "      <td>0.500000</td>\n",
              "      <td>0.499378</td>\n",
              "      <td>0.447766</td>\n",
              "      <td>0.490622</td>\n",
              "      <td>10.829317</td>\n",
              "      <td>10.557965</td>\n",
              "    </tr>\n",
              "    <tr>\n",
              "      <th>min</th>\n",
              "      <td>1.000000</td>\n",
              "      <td>0.000000</td>\n",
              "      <td>0.000000</td>\n",
              "      <td>0.000000</td>\n",
              "      <td>15.000000</td>\n",
              "      <td>0.000000</td>\n",
              "      <td>0.000000</td>\n",
              "      <td>0.000000</td>\n",
              "      <td>0.000000</td>\n",
              "      <td>0.000000</td>\n",
              "      <td>0.000000</td>\n",
              "      <td>0.000000</td>\n",
              "      <td>5.240000</td>\n",
              "      <td>-11.670000</td>\n",
              "    </tr>\n",
              "    <tr>\n",
              "      <th>25%</th>\n",
              "      <td>1304.750000</td>\n",
              "      <td>0.000000</td>\n",
              "      <td>1.000000</td>\n",
              "      <td>0.000000</td>\n",
              "      <td>32.000000</td>\n",
              "      <td>0.000000</td>\n",
              "      <td>0.000000</td>\n",
              "      <td>0.000000</td>\n",
              "      <td>0.000000</td>\n",
              "      <td>0.000000</td>\n",
              "      <td>0.000000</td>\n",
              "      <td>0.000000</td>\n",
              "      <td>34.060000</td>\n",
              "      <td>22.257500</td>\n",
              "    </tr>\n",
              "    <tr>\n",
              "      <th>50%</th>\n",
              "      <td>2608.500000</td>\n",
              "      <td>1.000000</td>\n",
              "      <td>1.000000</td>\n",
              "      <td>1.000000</td>\n",
              "      <td>36.000000</td>\n",
              "      <td>1.000000</td>\n",
              "      <td>0.000000</td>\n",
              "      <td>0.000000</td>\n",
              "      <td>0.000000</td>\n",
              "      <td>0.000000</td>\n",
              "      <td>0.000000</td>\n",
              "      <td>0.000000</td>\n",
              "      <td>40.735000</td>\n",
              "      <td>29.440000</td>\n",
              "    </tr>\n",
              "    <tr>\n",
              "      <th>75%</th>\n",
              "      <td>3912.250000</td>\n",
              "      <td>1.000000</td>\n",
              "      <td>1.000000</td>\n",
              "      <td>1.000000</td>\n",
              "      <td>40.000000</td>\n",
              "      <td>1.000000</td>\n",
              "      <td>0.000000</td>\n",
              "      <td>1.000000</td>\n",
              "      <td>1.000000</td>\n",
              "      <td>1.000000</td>\n",
              "      <td>1.000000</td>\n",
              "      <td>1.000000</td>\n",
              "      <td>48.920000</td>\n",
              "      <td>35.255000</td>\n",
              "    </tr>\n",
              "    <tr>\n",
              "      <th>max</th>\n",
              "      <td>5216.000000</td>\n",
              "      <td>1.000000</td>\n",
              "      <td>1.000000</td>\n",
              "      <td>1.000000</td>\n",
              "      <td>57.000000</td>\n",
              "      <td>1.000000</td>\n",
              "      <td>1.000000</td>\n",
              "      <td>1.000000</td>\n",
              "      <td>1.000000</td>\n",
              "      <td>1.000000</td>\n",
              "      <td>1.000000</td>\n",
              "      <td>1.000000</td>\n",
              "      <td>82.720000</td>\n",
              "      <td>71.900000</td>\n",
              "    </tr>\n",
              "  </tbody>\n",
              "</table>\n",
              "</div>\n",
              "      <button class=\"colab-df-convert\" onclick=\"convertToInteractive('df-fa7950e8-e0f7-43eb-a114-94eefa3cff20')\"\n",
              "              title=\"Convert this dataframe to an interactive table.\"\n",
              "              style=\"display:none;\">\n",
              "        \n",
              "  <svg xmlns=\"http://www.w3.org/2000/svg\" height=\"24px\"viewBox=\"0 0 24 24\"\n",
              "       width=\"24px\">\n",
              "    <path d=\"M0 0h24v24H0V0z\" fill=\"none\"/>\n",
              "    <path d=\"M18.56 5.44l.94 2.06.94-2.06 2.06-.94-2.06-.94-.94-2.06-.94 2.06-2.06.94zm-11 1L8.5 8.5l.94-2.06 2.06-.94-2.06-.94L8.5 2.5l-.94 2.06-2.06.94zm10 10l.94 2.06.94-2.06 2.06-.94-2.06-.94-.94-2.06-.94 2.06-2.06.94z\"/><path d=\"M17.41 7.96l-1.37-1.37c-.4-.4-.92-.59-1.43-.59-.52 0-1.04.2-1.43.59L10.3 9.45l-7.72 7.72c-.78.78-.78 2.05 0 2.83L4 21.41c.39.39.9.59 1.41.59.51 0 1.02-.2 1.41-.59l7.78-7.78 2.81-2.81c.8-.78.8-2.07 0-2.86zM5.41 20L4 18.59l7.72-7.72 1.47 1.35L5.41 20z\"/>\n",
              "  </svg>\n",
              "      </button>\n",
              "      \n",
              "  <style>\n",
              "    .colab-df-container {\n",
              "      display:flex;\n",
              "      flex-wrap:wrap;\n",
              "      gap: 12px;\n",
              "    }\n",
              "\n",
              "    .colab-df-convert {\n",
              "      background-color: #E8F0FE;\n",
              "      border: none;\n",
              "      border-radius: 50%;\n",
              "      cursor: pointer;\n",
              "      display: none;\n",
              "      fill: #1967D2;\n",
              "      height: 32px;\n",
              "      padding: 0 0 0 0;\n",
              "      width: 32px;\n",
              "    }\n",
              "\n",
              "    .colab-df-convert:hover {\n",
              "      background-color: #E2EBFA;\n",
              "      box-shadow: 0px 1px 2px rgba(60, 64, 67, 0.3), 0px 1px 3px 1px rgba(60, 64, 67, 0.15);\n",
              "      fill: #174EA6;\n",
              "    }\n",
              "\n",
              "    [theme=dark] .colab-df-convert {\n",
              "      background-color: #3B4455;\n",
              "      fill: #D2E3FC;\n",
              "    }\n",
              "\n",
              "    [theme=dark] .colab-df-convert:hover {\n",
              "      background-color: #434B5C;\n",
              "      box-shadow: 0px 1px 3px 1px rgba(0, 0, 0, 0.15);\n",
              "      filter: drop-shadow(0px 1px 2px rgba(0, 0, 0, 0.3));\n",
              "      fill: #FFFFFF;\n",
              "    }\n",
              "  </style>\n",
              "\n",
              "      <script>\n",
              "        const buttonEl =\n",
              "          document.querySelector('#df-fa7950e8-e0f7-43eb-a114-94eefa3cff20 button.colab-df-convert');\n",
              "        buttonEl.style.display =\n",
              "          google.colab.kernel.accessAllowed ? 'block' : 'none';\n",
              "\n",
              "        async function convertToInteractive(key) {\n",
              "          const element = document.querySelector('#df-fa7950e8-e0f7-43eb-a114-94eefa3cff20');\n",
              "          const dataTable =\n",
              "            await google.colab.kernel.invokeFunction('convertToInteractive',\n",
              "                                                     [key], {});\n",
              "          if (!dataTable) return;\n",
              "\n",
              "          const docLinkHtml = 'Like what you see? Visit the ' +\n",
              "            '<a target=\"_blank\" href=https://colab.research.google.com/notebooks/data_table.ipynb>data table notebook</a>'\n",
              "            + ' to learn more about interactive tables.';\n",
              "          element.innerHTML = '';\n",
              "          dataTable['output_type'] = 'display_data';\n",
              "          await google.colab.output.renderOutput(dataTable, element);\n",
              "          const docLink = document.createElement('div');\n",
              "          docLink.innerHTML = docLinkHtml;\n",
              "          element.appendChild(docLink);\n",
              "        }\n",
              "      </script>\n",
              "    </div>\n",
              "  </div>\n",
              "  "
            ]
          },
          "metadata": {},
          "execution_count": 151
        }
      ]
    },
    {
      "cell_type": "markdown",
      "source": [
        "H LobsterLand wants to know more about how its international guests compareto its domestic ones.\n",
        "> a. First, find the percentage of guests from the entire dataset who stayed at Lobster Land for more than four hours on July 4th.\n",
        "\n"
      ],
      "metadata": {
        "id": "CuD-iLZJO3eX"
      }
    },
    {
      "cell_type": "code",
      "source": [
        "((july4.loc[(july4['stay_four'] == 0)].stay_four.count())/len(july4['stay_four'])*100).round(2)"
      ],
      "metadata": {
        "colab": {
          "base_uri": "https://localhost:8080/"
        },
        "id": "kqqgCQ0udBgc",
        "outputId": "1d451dd2-10e6-471b-a1da-a9b078191d45"
      },
      "execution_count": null,
      "outputs": [
        {
          "output_type": "execute_result",
          "data": {
            "text/plain": [
              "40.07"
            ]
          },
          "metadata": {},
          "execution_count": 152
        }
      ]
    },
    {
      "cell_type": "markdown",
      "source": [
        "\n",
        "b. Now, let’s break this down a bit more. What percentage of domestic visitors stayed for more than 4 hours on that day? What percentage of international visitors stayed for more than 4 hours on that day?\n",
        "\n"
      ],
      "metadata": {
        "id": "VW6wjuxIPL8s"
      }
    },
    {
      "cell_type": "code",
      "source": [
        "f4=july4[july4.stay_four==1 & july4.state.isna()].stay_four.count()\n",
        "d4=july4[july4.stay_four==1 & july4.state.notna()].stay_four.count()\n",
        "(f4/len(july4['stay_four'])*100).round(2)"
      ],
      "metadata": {
        "colab": {
          "base_uri": "https://localhost:8080/"
        },
        "id": "qKBCa-HfdBwu",
        "outputId": "31ba312a-d563-4044-94da-b26a4c65b6bc"
      },
      "execution_count": null,
      "outputs": [
        {
          "output_type": "execute_result",
          "data": {
            "text/plain": [
              "56.69"
            ]
          },
          "metadata": {},
          "execution_count": 153
        }
      ]
    },
    {
      "cell_type": "code",
      "source": [
        "(d4/len(july4['stay_four'])*100).round(2)"
      ],
      "metadata": {
        "colab": {
          "base_uri": "https://localhost:8080/"
        },
        "id": "hLGah4qFj_7B",
        "outputId": "22d83c75-35c9-4e9f-fbcc-b239c624e628"
      },
      "execution_count": null,
      "outputs": [
        {
          "output_type": "execute_result",
          "data": {
            "text/plain": [
              "43.31"
            ]
          },
          "metadata": {},
          "execution_count": 154
        }
      ]
    },
    {
      "cell_type": "markdown",
      "source": [
        "*43.31% percentage of domestic visitors stayed for more than 4 hours on that day. and 56.69% percentage of international visitors stayed for more than 4 hours on that day.*"
      ],
      "metadata": {
        "id": "htu1iHKYPcr0"
      }
    },
    {
      "cell_type": "markdown",
      "source": [
        "\n",
        "\n",
        "\n",
        "> c. If the values you found in Step B were different, what do you think might explain this difference? (No domain knowledge is required here – take a moment to think about it, and come up with a thoughtful, plausible explanation).\n",
        "\n",
        "\n",
        "\n"
      ],
      "metadata": {
        "id": "v95Jo18hPuqV"
      }
    },
    {
      "cell_type": "markdown",
      "source": [
        "*The* percentage of international visitors who stayed for more than 4 hours on that day is higher than that of domestic visitors. International visitors want to spend more time on LobsterLand to make their long-time travel worthwhile. "
      ],
      "metadata": {
        "id": "EwgntPXnB-qn"
      }
    },
    {
      "cell_type": "markdown",
      "source": [
        "I. Removing a variable\n",
        "> a. Pick any variable from the dataset that is redundant (in other words, all\n",
        "the information that it contains is already included in another variable). Remove the variable that you have identified as redundant.\n",
        "\n",
        "> i. In a sentence or two, explain why this variable is not needed.\n",
        "\n",
        "\n",
        "\n"
      ],
      "metadata": {
        "id": "JJRDAjzBP2-C"
      }
    },
    {
      "cell_type": "code",
      "source": [
        "july4 = july4.drop('ice_cream_purch', axis=1)"
      ],
      "metadata": {
        "id": "1uW6LohtlnhQ"
      },
      "execution_count": null,
      "outputs": []
    },
    {
      "cell_type": "markdown",
      "source": [
        "*The variable 'ice_cream_purch' is redundant because it is included in 'ice_cream_flavor'. If the consumers brought an ice cream, the value of the 'ice_cream_flavor' will be his/her favorite flavor. Otherwise, the value of the 'ice_cream_flavor' will be 'None'*"
      ],
      "metadata": {
        "id": "4hWygWh2f8c0"
      }
    },
    {
      "cell_type": "markdown",
      "source": [
        "J. Renaming a variable.\n",
        "\n",
        "\n",
        "> a. Pick any variable in the dataset, and rename it. (For this step, it doesn’t\n",
        "matter which variable you pick -- the purpose is just to become familiar with the process for doing this -- it can sometimes be a very helpful step in data cleaning/data preparation).\n"
      ],
      "metadata": {
        "id": "m4gXTBWyQR7f"
      }
    },
    {
      "cell_type": "code",
      "source": [
        "july4=july4.rename({'visitor':'index'},axis=1)"
      ],
      "metadata": {
        "id": "gElFklHegCyE"
      },
      "execution_count": null,
      "outputs": []
    },
    {
      "cell_type": "markdown",
      "source": [
        "# Data Visualization"
      ],
      "metadata": {
        "id": "9KOaBb8Ahck3"
      }
    },
    {
      "cell_type": "markdown",
      "source": [
        "K. Using any plotting tool in Python, generate a boxplot that shows maine_res on on the x-axis, and merchandise spending on the y-axis.\n",
        "\n",
        "> a. What do you notice about this relationship? In a couple of sentences, why does this fit or not fit with what you would intuitively expect?"
      ],
      "metadata": {
        "id": "z4wfULaBQZEf"
      }
    },
    {
      "cell_type": "code",
      "source": [
        "sns.catplot(x=\"maine_res\", y=\"merch_spend\", kind=\"box\", data=july4);\n",
        "\n"
      ],
      "metadata": {
        "colab": {
          "base_uri": "https://localhost:8080/",
          "height": 369
        },
        "id": "F1xF9vyNg4Xw",
        "outputId": "382554c7-25f0-4a72-9840-c4a08bdd90cb"
      },
      "execution_count": null,
      "outputs": [
        {
          "output_type": "display_data",
          "data": {
            "text/plain": [
              "<Figure size 360x360 with 1 Axes>"
            ],
            "image/png": "[encoded data removed]"
          },
          "metadata": {
            "needs_background": "light"
          }
        }
      ]
    },
    {
      "cell_type": "markdown",
      "source": [
        "*It seems the relationship between merchandise spending and maine_res is negative. it does not fit my intuitively expect. Because I thought people who chose to maine_res may have a higher average of merchandise spending.*"
      ],
      "metadata": {
        "id": "2XyWtXwwkCLV"
      }
    },
    {
      "cell_type": "markdown",
      "source": [
        "L. Which rides were most popular / least popular on July 4th, 2021? Generate one barplot that depicts the total number of people who went on the Sky Chairs, the Ferris Wheel, the Lobster Claw, and the Lobster Junior. (Note: there are many ways you can solve this – any approach that gets the job done is completely fine).\n",
        "\n",
        "\n",
        "> a. In a sentence or two, what does this plot show?"
      ],
      "metadata": {
        "id": "xuwIq6IKQlMP"
      }
    },
    {
      "cell_type": "code",
      "source": [
        "july4_bar =july4.agg({'sky_chair':'sum', 'ferris_wheel':'sum', 'lobster_claw':'sum','lobster_junior':'sum'}).reset_index(name='counts')\n",
        "sns.barplot(x='index', y='counts', data=july4_bar, ci=None);\n"
      ],
      "metadata": {
        "colab": {
          "base_uri": "https://localhost:8080/",
          "height": 280
        },
        "id": "Tv3mrmp7jPPu",
        "outputId": "3ec7b91b-6382-444c-fa09-b6211f98c285"
      },
      "execution_count": null,
      "outputs": [
        {
          "output_type": "display_data",
          "data": {
            "text/plain": [
              "<Figure size 432x288 with 1 Axes>"
            ],
            "image/png": "[encoded data removed]"
          },
          "metadata": {
            "needs_background": "light"
          }
        }
      ]
    },
    {
      "cell_type": "markdown",
      "source": [
        "*Sky Chairs was the most popular ride and Lobster Claw was the least popular one on July 4th, 2021.*"
      ],
      "metadata": {
        "id": "RM3tKeCEtj4g"
      }
    },
    {
      "cell_type": "markdown",
      "source": [
        "M. Build a histogram that depicts the ages of people who visited Lobster Land on July 4th, 2021.\n",
        "> a. How can you increase the number of bins in your histogram?"
      ],
      "metadata": {
        "id": "eNNflJyfQsCR"
      }
    },
    {
      "cell_type": "markdown",
      "source": [
        "*We can increase the bins by segmenting the visitors.*"
      ],
      "metadata": {
        "id": "T92BEG7cQzE3"
      }
    },
    {
      "cell_type": "markdown",
      "source": [
        "\n",
        "\n",
        "> b. Create another age histogram, but with more bins. Be sure to include\n",
        "an x-axis label and a title with your histogram."
      ],
      "metadata": {
        "id": "6c7CLgyTQ_qq"
      }
    },
    {
      "cell_type": "code",
      "source": [
        "sns.histplot(data=july4, x='age').set(xlabel = 'age',title ='Age Distribution');"
      ],
      "metadata": {
        "colab": {
          "base_uri": "https://localhost:8080/",
          "height": 295
        },
        "id": "GtRMHwlZtjXr",
        "outputId": "6c675d79-49d8-474c-fc31-1716522cbfe7"
      },
      "execution_count": null,
      "outputs": [
        {
          "output_type": "display_data",
          "data": {
            "text/plain": [
              "<Figure size 432x288 with 1 Axes>"
            ],
            "image/png": "[encoded data removed]"
          },
          "metadata": {
            "needs_background": "light"
          }
        }
      ]
    },
    {
      "cell_type": "markdown",
      "source": [
        "\n",
        "> c. How is your second histogram different from your first one? What is the\n",
        "impact of increasing the number of bins?\n",
        "\n"
      ],
      "metadata": {
        "id": "zhsF6f91RGQh"
      }
    },
    {
      "cell_type": "code",
      "source": [
        "sns.histplot(data=july4, x='age', hue='gender', multiple=\"dodge\", shrink=.8).set(xlabel = 'age',title ='Age and Gender Distribution');"
      ],
      "metadata": {
        "colab": {
          "base_uri": "https://localhost:8080/",
          "height": 295
        },
        "id": "3REhZdYDtins",
        "outputId": "8c8605b2-b682-450f-bf1e-a793eb8a31be"
      },
      "execution_count": null,
      "outputs": [
        {
          "output_type": "display_data",
          "data": {
            "text/plain": [
              "<Figure size 432x288 with 1 Axes>"
            ],
            "image/png": "[encoded data removed]"
          },
          "metadata": {
            "needs_background": "light"
          }
        }
      ]
    },
    {
      "cell_type": "markdown",
      "source": [
        "*I increased bins by separating the visitors by gender.*"
      ],
      "metadata": {
        "id": "JLVHwjNPyJhe"
      }
    },
    {
      "cell_type": "markdown",
      "source": [
        "\n",
        "\n",
        "> d. Now, make faceted histograms that show the age distribution of those\n",
        "visitors who went on the Lobster Junior, as well as the age distribution of those who did not. Does this result fit with your intuition/expectation? Why or why not?"
      ],
      "metadata": {
        "id": "DY7VXkDqRSmX"
      }
    },
    {
      "cell_type": "code",
      "source": [
        "sns.displot(\n",
        "    july4, x=\"age\", col=\"lobster_junior\",\n",
        "    binwidth=5, height=5, facet_kws=dict(margin_titles=True),\n",
        ");"
      ],
      "metadata": {
        "colab": {
          "base_uri": "https://localhost:8080/",
          "height": 369
        },
        "id": "7hljKmuEzDej",
        "outputId": "526ad582-7a69-410c-8b7f-e1445837d38e"
      },
      "execution_count": null,
      "outputs": [
        {
          "output_type": "display_data",
          "data": {
            "text/plain": [
              "<Figure size 720x360 with 2 Axes>"
            ],
            "image/png": "[encoded data removed]"
          },
          "metadata": {
            "needs_background": "light"
          }
        }
      ]
    },
    {
      "cell_type": "markdown",
      "source": [
        "*It fit my expectation because of the age distribution of those\n",
        "visitors who went on the Lobster Junior and those who did not are all close to normal distribution.*"
      ],
      "metadata": {
        "id": "_nuBd6Z01VgJ"
      }
    },
    {
      "cell_type": "markdown",
      "source": [
        "N. Use the countplot() function from seaborn to show a comparison of the home countries of international visitors to Lobster Land on July 4th. Set up the bars so that they are in decreasing or increasing order of size.\n",
        "\n",
        "> a. What does this graph show? In a sentence or two, explain what it depicts."
      ],
      "metadata": {
        "id": "ySqyKTuYRXmB"
      }
    },
    {
      "cell_type": "code",
      "source": [
        "july4_int=july4.loc[july4['domestic'] ==0] \n",
        "sns.countplot(x=july4_int['country']);"
      ],
      "metadata": {
        "colab": {
          "base_uri": "https://localhost:8080/",
          "height": 279
        },
        "id": "6qdgd8hH1Wos",
        "outputId": "70181267-e0e7-4264-be8e-4b3b63357341"
      },
      "execution_count": null,
      "outputs": [
        {
          "output_type": "display_data",
          "data": {
            "text/plain": [
              "<Figure size 432x288 with 1 Axes>"
            ],
            "image/png": "[encoded data removed]"
          },
          "metadata": {
            "needs_background": "light"
          }
        }
      ]
    },
    {
      "cell_type": "markdown",
      "source": [
        "*The largest group of foreign visitors is Canadian and the second group is Chinese.*"
      ],
      "metadata": {
        "id": "lhXhHR0A3f-V"
      }
    },
    {
      "cell_type": "markdown",
      "source": [
        "O. Now, use the barplot() function from seaborn to show a comparison of payment methods for visitors from different countries. Construct this plot so that countries are on the x-axis, and the proportion of guests who paid with cash is on the y-axis. Do not include confidence intervals with the bars. Set up the bars so that they are in decreasing or increasing order of size.\n",
        "\n",
        "> b. What does this graph show? In a sentence or two, explain what it depicts."
      ],
      "metadata": {
        "id": "9SlZg40jRgaI"
      }
    },
    {
      "cell_type": "code",
      "source": [
        "july4_cash = july4.groupby(['country'])['payment_method'].sum().reset_index(name='cash')\n",
        "july4_all=july4.groupby(['country'])['country'].count().reset_index(name='all')\n",
        "july4_prop= pd.merge(july4_cash, july4_all, on=\"country\")\n",
        "july4_prop['prop']=(july4_prop['cash']/july4_prop['all']*100).round(2)\n",
        "sns.barplot(x='country', \n",
        "            y=\"prop\", \n",
        "            data=july4_prop, \n",
        "            order=july4_prop.sort_values('prop',ascending = False).country).set(ylabel ='proportion of guests who paid with cash');"
      ],
      "metadata": {
        "colab": {
          "base_uri": "https://localhost:8080/",
          "height": 279
        },
        "id": "leatbBcR3hHc",
        "outputId": "8aa1e47f-52f8-4f01-eed4-e2ff5620e3f0"
      },
      "execution_count": null,
      "outputs": [
        {
          "output_type": "display_data",
          "data": {
            "text/plain": [
              "<Figure size 432x288 with 1 Axes>"
            ],
            "image/png": "[encoded data removed]"
          },
          "metadata": {
            "needs_background": "light"
          }
        }
      ]
    },
    {
      "cell_type": "markdown",
      "source": [
        "*The proportion of guests from South Korea who paid with cash is the largest and that of guests from Japan is the lowest.*"
      ],
      "metadata": {
        "id": "QC2Hh34NBtAQ"
      }
    },
    {
      "cell_type": "markdown",
      "source": [
        "#  Wildcard: Metrics and “Quantified Self ”"
      ],
      "metadata": {
        "id": "hlZl2ILkIW6m"
      }
    },
    {
      "cell_type": "markdown",
      "source": [
        "A. For three days, you will gather observational data, acting as both the researcher AND as the subject.\n",
        "a. Choose ANY aspect of your daily life that you can quantify. This could be a health metric, a financial metric, an entertainment metric, a metric about a hobby, or just ANYTHING else that you can measure/quantify.\n",
        "b. For each of the three days, keep track of this metric.\n",
        "c. Write ONE thoughtful paragraph about your experience. Include your results in\n",
        "the write-up. In your paragraph, you might answer questions such as: What did you learn by tracking this? Did it change your behavior in any way? Did anyone else around you react to what you were doing? Would you consider running the “experiment” for a longer period of time?"
      ],
      "metadata": {
        "id": "WUkyeZp4RnKm"
      }
    },
    {
      "cell_type": "markdown",
      "source": [
        "*I monitored the screen usage time of my phone from Thursday to Saturday. On Thursday, I used 4 hours and 28 minutes. On Friday, I used 8 hours and 32 minutes. On Saturday, I used 9 hours and 22 hours. On Thursday, I had three classes so I had little time to use my phone. Because of the heavy workload, I was too tired and fell asleep at around 8 pm. I guess these are the reasons why I used fewer phones on Tuesday. On Friday, I tried to schedule a meeting with my group members so I frequently checked the messages. On Saturday, I chatted with my friends for around 3 hours on WeChat.*\n",
        "\n",
        "*Monitoring my phone screen time over the past few days has been an insightful experience. It has made me more aware of the amount of time I spend on my phone and the factors that influence my usage. Reviewing my results, I noticed that on days when I had more social interactions, my phone usage tended to increase. Conversely, on days when I had fewer responsibilities, my phone usage decreased. This experiment has prompted me to be more mindful of my phone usage and to seek a better balance in my daily life. It has also sparked some interesting discussions with family and friends, who have shared their own experiences and perspectives on phone usage. I am curious to see if these patterns continue over a longer period of time and may consider running the experiment again in the future.*"
      ],
      "metadata": {
        "id": "QVTVoNi7Budo"
      }
    }
  ]
}